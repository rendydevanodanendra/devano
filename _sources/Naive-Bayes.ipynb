{
 "cells": [
  {
   "cell_type": "markdown",
   "metadata": {},
   "source": [
    "# **Naive Bayes**\n"
   ]
  },
  {
   "cell_type": "markdown",
   "metadata": {},
   "source": [
    "## **Pengenalan Naive Bayes**\n",
    "\n",
    "### **Apa itu Naive Bayes**  \n",
    "\n",
    "- Algoritma klasifikasi berbasis probabilitas.  \n",
    "\n",
    "- Digunakan untuk memprediksi kelas suatu data berdasarkan fitur-fiturnya.  \n",
    "\n",
    "- Termasuk dalam keluarga algoritma Machine Learning Supervised Learning.  "
   ]
  },
  {
   "cell_type": "markdown",
   "metadata": {},
   "source": [
    "### **Pengertian Naive Bayes**  \n",
    "Naïve Bayes adalah algoritme machine learning yang digunakan untuk klasifikasi berdasarkan Teorema Bayes, yaitu menghitung probabilitas suatu kejadian berdasarkan informasi sebelumnya. Metode ini sering digunakan untuk berbagai tugas klasifikasi karena cepat dan efisien dalam menangani data dengan banyak fitur."
   ]
  },
  {
   "cell_type": "markdown",
   "metadata": {},
   "source": [
    "### **Konsep Dasar**\n",
    "Disebut \"naïve\" karena mengasumsikan bahwa setiap fitur bersifat independen, meskipun dalam kenyataan seringkali fitur-fitur tersebut saling berkaitan.  \n",
    "Contoh: Dalam penilaian kredit, faktor seperti pendapatan, riwayat pinjaman, dan usia dianggap tidak saling memengaruhi, meskipun sebenarnya bisa berkaitan.  "
   ]
  },
  {
   "cell_type": "markdown",
   "metadata": {},
   "source": [
    "### **Implementasi Naive Bayes**\n",
    "**Naïve Bayes** banyak digunakan dalam berbagai aplikasi, seperti:  \n",
    " Klasifikasi dokumen → Menentukan apakah suatu teks bertema olahraga, teknologi, politik, dll.  \n",
    " Deteksi spam → Menentukan apakah email termasuk spam atau bukan.  \n",
    " Sistem rekomendasi → Menyaring dan merekomendasikan produk atau konten.  \n",
    " Analisis sentimen → Menganalisis apakah ulasan suatu produk bernada positif atau negatif.  \n",
    " Prediksi cuaca → Menentukan kemungkinan kondisi cuaca berdasarkan data historis.  "
   ]
  },
  {
   "cell_type": "markdown",
   "metadata": {},
   "source": [
    "### **Jenis-jenis Naive Bayes**  \n",
    "Multinomial Naïve Bayes → Digunakan untuk klasifikasi teks berdasarkan frekuensi kata dalam dokumen.  \n",
    "\n",
    "Gaussian Naïve Bayes → Digunakan untuk data kontinu yang diasumsikan mengikuti distribusi normal (Gaussian).  \n",
    "\n",
    "Bernoulli Naïve Bayes → Digunakan untuk data dengan nilai Boolean (ya/tidak, muncul/tidak).  "
   ]
  },
  {
   "cell_type": "markdown",
   "metadata": {},
   "source": [
    "## **Prinsip Dasar**  \n",
    "### **Teorema Bayes:**  \n",
    "$$\n",
    "P(Y|X) = \\frac{P(X|Y) \\cdot P(Y)}{P(X)}\n",
    "$$  \n",
    "\n",
    "### **Penjelasan:**  \n",
    "- **\\( P(Y|X) \\)**: Probabilitas posterior (kelas **Y** diberikan fitur **X**).  \n",
    "- **\\( P(X|Y) \\)**: Likelihood (probabilitas fitur **X** diberikan kelas **Y**).  \n",
    "- **\\( P(Y) \\)**: Prior probability (probabilitas awal kelas **Y**).  \n",
    "- **\\( P(X) \\)**: Evidence (probabilitas fitur **X** secara keseluruhan).  \n",
    "\n",
    "### **Tujuan:**  \n",
    "Mencari kelas **Y** dengan nilai **\\( P(Y|X) \\)** tertinggi."
   ]
  },
  {
   "cell_type": "markdown",
   "metadata": {},
   "source": [
    "## **Langkah-langkah Klasifikasi**\n",
    "\n",
    "\n",
    "### **1. Persiapan Data:**  \n",
    " Pisahkan data menjadi fitur (**X**) dan label (**Y**).  \n",
    "\n",
    "### **2. Hitung Probabilitas Awal (\\( P(Y) \\))**  \n",
    " Hitung frekuensi setiap kelas dalam dataset.  \n",
    "\n",
    "### **3. Hitung Likelihood (\\( P(X|Y) \\))**  \n",
    " Untuk setiap fitur, hitung probabilitas kemunculannya dalam setiap kelas.  \n",
    "\n",
    "### **4. Gabungkan dengan Teorema Bayes:**  \n",
    " Gunakan rumus:  \n",
    "  $$\n",
    "  P(Y|X) = \\frac{P(X|Y) \\cdot P(Y)}{P(X)}\n",
    "  $$   \n",
    "\n",
    "### **5. Prediksi Kelas:**  \n",
    " Pilih kelas dengan nilai \\( P(Y|X) \\) tertinggi."
   ]
  },
  {
   "cell_type": "markdown",
   "metadata": {},
   "source": [
    "## **Kelebihan dan Kekurangan**  \n",
    "\n",
    "### **Kelebihan:**  \n",
    "- Sederhana dan mudah diimplementasikan.  \n",
    "- Cepat dan efisien untuk dataset besar.  \n",
    "- Cocok untuk data dengan banyak fitur.  \n",
    "- Dapat digunakan untuk berbagai jenis data, termasuk teks dan numerik.  \n",
    "- Memberikan hasil yang baik meskipun dengan jumlah data pelatihan yang sedikit.  \n",
    "\n",
    "### **Kekurangan:**  \n",
    "- Asumsi independensi fitur seringkali tidak realistis.  \n",
    "- Performa menurun jika fitur saling bergantung.  \n",
    "- Memerlukan penanganan khusus untuk data dengan probabilitas nol.  \n",
    "- Sensitif terhadap data dengan distribusi yang tidak seimbang.  \n",
    "- Tidak selalu akurat dibandingkan dengan model yang lebih kompleks seperti Random Forest atau SVM."
   ]
  },
  {
   "cell_type": "markdown",
   "metadata": {},
   "source": [
    "## **Langkah-langkah Perhitungan Manual Gaussian Naïve Bayes dengan Variance**  \n",
    "\n",
    "### **1. Persiapan Data**\n",
    "- Pisahkan dataset menjadi fitur $ X $ dan label $ Y $.\n",
    "\n",
    "### **2. Menghitung Probabilitas Awal $ P(Y) $**\n",
    "- Hitung probabilitas setiap kelas dalam dataset:\n",
    "  $$\n",
    "  P(Y) = \\frac{\\text{Jumlah sampel dalam kelas tersebut}}{\\text{Total sampel}}\n",
    "  $$\n",
    "\n",
    "### **3. Menghitung Mean ($\\mu$) dan Variance ($\\sigma^2$)**  \n",
    "Untuk setiap fitur dalam setiap kelas:\n",
    "- **Rata-rata (Mean)**\n",
    "  $$\n",
    "  \\mu = \\frac{\\sum x}{N}\n",
    "  $$\n",
    "- **Variance ($\\sigma^2$)**\n",
    "  $$\n",
    "  \\sigma^2 = \\frac{\\sum (x_i - \\mu)^2}{N}\n",
    "  $$\n",
    "  Variance menggantikan standar deviasi dalam perhitungan distribusi normal.\n",
    "\n",
    "### **4. Menghitung Likelihood $ P(X|Y) $ Menggunakan Distribusi Gaussian**  \n",
    "Gunakan rumus **distribusi Gaussian** dengan variance:  \n",
    "$$  \n",
    "P(x|\\mu, \\sigma^2) = \\frac{1}{\\sqrt{2\\pi\\sigma^2}} e^{-\\frac{(x - \\mu)^2}{2\\sigma^2}}\n",
    "$$  \n",
    "Untuk setiap fitur  X_i , hitung probabilitasnya berdasarkan mean dan variance dari kelas yang bersangkutan.\n",
    "\n",
    "### **5. Menggabungkan dengan Teorema Bayes**  \n",
    "Gunakan Teorema Bayes untuk menghitung probabilitas posterior:  \n",
    "$$  \n",
    "P(Y|X) = \\frac{P(X|Y) P(Y)}{P(X)}\n",
    "$$  \n",
    "Karena  P(X)  sama untuk semua kelas, kita cukup mencari nilai P(Y|X)  terbesar.\n",
    "\n",
    "### **6. Prediksi Kelas**\n",
    "- Pilih kelas $ Y $ dengan nilai $ P(Y|X) $ tertinggi.\n"
   ]
  },
  {
   "cell_type": "markdown",
   "metadata": {},
   "source": [
    "## **Contoh perhitungan manual Gaussian Naïve Bayes** \n",
    "menggunakan **15 data mahasiswa**, dengan **4 fitur** dan **3 kelas label**.\n",
    "\n",
    "\n",
    "### **📌 Dataset Mahasiswa**\n",
    "| No | IPK | Kehadiran (%) | Tugas | Ujian | Kelas (Label) |\n",
    "|----|----|----|----|----|----|\n",
    "| 1  | 3.5 | 90 | 80 | 85 | A |\n",
    "| 2  | 3.8 | 85 | 78 | 88 | A |\n",
    "| 3  | 3.6 | 92 | 82 | 84 | A |\n",
    "| 4  | 3.9 | 80 | 79 | 89 | A |\n",
    "| 5  | 3.7 | 87 | 81 | 86 | A |\n",
    "| 6  | 3.2 | 75 | 70 | 78 | B |\n",
    "| 7  | 3.0 | 80 | 72 | 76 | B |\n",
    "| 8  | 2.9 | 78 | 74 | 75 | B |\n",
    "| 9  | 3.1 | 77 | 71 | 77 | B |\n",
    "| 10 | 3.3 | 74 | 69 | 79 | B |\n",
    "| 11 | 2.5 | 60 | 60 | 65 | C |\n",
    "| 12 | 2.7 | 55 | 58 | 63 | C |\n",
    "| 13 | 2.6 | 57 | 59 | 64 | C |\n",
    "| 14 | 2.8 | 53 | 57 | 62 | C |\n",
    "| 15 | 2.4 | 50 | 55 | 60 | C |\n",
    "\n",
    "\n",
    "\n",
    "## **Langkah 1: Hitung Probabilitas Awal $ P(Y) $**\n",
    "Jumlah mahasiswa per kelas:\n",
    "- **A** = 5\n",
    "- **B** = 5\n",
    "- **C** = 5  \n",
    "Total = 15\n",
    "\n",
    "$$\n",
    "P(A) = \\frac{5}{15} = 0.33\n",
    "$$  \n",
    "$$\n",
    "P(B) = \\frac{5}{15} = 0.33\n",
    "$$  \n",
    "$$\n",
    "P(C) = \\frac{5}{15} = 0.33\n",
    "$$ \n",
    "\n",
    "\n",
    "\n",
    "## **Langkah 2: Hitung Mean $\\mu$ dan Variance $\\sigma^2$**\n",
    "\n",
    "### **Kelas A**\n",
    "| Fitur | Mean $\\mu$ | Variance $\\sigma^2$ |\n",
    "|--------|--------------|----------------|\n",
    "| IPK | $ \\frac{3.5 + 3.8 + 3.6 + 3.9 + 3.7}{5} = 3.7 $ | $ \\frac{(3.5-3.7)^2 + (3.8-3.7)^2 + ...}{5} = 0.02 $ |\n",
    "| Kehadiran | 86.8 | 17.36 |\n",
    "| Tugas | 80 | 2.5 |\n",
    "| Ujian | 86.4 | 4.64 |\n",
    "\n",
    "### **Kelas B**\n",
    "| Fitur | Mean $\\mu$ | Variance $\\sigma^2$ |\n",
    "|--------|--------------|----------------|\n",
    "| IPK | 3.1 | 0.02 |\n",
    "| Kehadiran | 76.8 | 5.36 |\n",
    "| Tugas | 71.2 | 6.96 |\n",
    "| Ujian | 77 | 1.36 |\n",
    "\n",
    "### **Kelas C**\n",
    "| Fitur | Mean $\\mu$ | Variance $\\sigma^2$ |\n",
    "|--------|--------------|----------------|\n",
    "| IPK | 2.6 | 0.02 |\n",
    "| Kehadiran | 55 | 11.5 |\n",
    "| Tugas | 57.8 | 3.7 |\n",
    "| Ujian | 62.8 | 4.2 |\n",
    "\n",
    "\n",
    "## **Langkah 3: Hitung Likelihood \\( P(X|Y) \\) Menggunakan Distribusi Gaussian**\n",
    "\n",
    "Misalkan ada **mahasiswa baru** dengan data berikut:\n",
    "\n",
    "| IPK | Kehadiran (%) | Tugas | Ujian |\n",
    "|----|----|----|----|\n",
    "| 3.4 | 82 | 75 | 80 |\n",
    "\n",
    "Gunakan **Distribusi Gaussian** untuk menghitung probabilitas masing-masing kelas:\n",
    "\n",
    "\n",
    "$$P(x|\\mu, \\sigma^2) = \\frac{1}{\\sqrt{2\\pi\\sigma^2}} e^{-\\frac{(x - \\mu)^2}{2\\sigma^2}}$$\n",
    "\n",
    "\n",
    "Untuk IPK kelas **A**:\n",
    "\n",
    "$$P(3.4 | A) = \\frac{1}{\\sqrt{2\\pi(0.02)}} e^{-\\frac{(3.4 - 3.7)^2}{2(0.02)}}$$\n",
    "\n",
    "Untuk Kehadiran kelas **A**:\n",
    "\n",
    "$$P(82 | A) = \\frac{1}{\\sqrt{2\\pi(17.36)}} e^{-\\frac{(82 - 86.8)^2}{2(17.36)}}$$\n",
    "\n",
    "\n",
    "Lakukan perhitungan serupa untuk semua fitur dan semua kelas.\n",
    "\n",
    "\n",
    "\n",
    "## **Langkah 4: Hitung \\( P(Y|X) \\) Menggunakan Teorema Bayes**\n",
    "$\n",
    "P(A|X) = P(X|A) P(A)\n",
    "$\n",
    "$\n",
    "P(B|X) = P(X|B) P(B)\n",
    "$\n",
    "$\n",
    "P(C|X) = P(X|C) P(C)\n",
    "$\n",
    "\n",
    "Bandingkan hasilnya dan pilih kelas dengan nilai probabilitas terbesar.\n",
    "\n",
    "\n",
    "\n",
    "## **Langkah 5: Prediksi Kelas**\n",
    "Misalnya setelah perhitungan, diperoleh:\n",
    "- $ P(A|X) = 0.50 $\n",
    "- $ P(B|X) = 0.30 $\n",
    "- $ P(C|X) = 0.20 $\n",
    "\n",
    "Maka, **mahasiswa baru diklasifikasikan sebagai kelas A**.\n",
    "\n",
    "**Catatan:**\n",
    "- Perhitungan manual ini bisa sangat panjang, sehingga biasanya menggunakan Python untuk menghitungnya.\n",
    "- Jika ingin melihat implementasi dalam Python,scrol ke paling bawah namun saya menggunakan dataset yang berbeda\n"
   ]
  },
  {
   "cell_type": "markdown",
   "metadata": {},
   "source": [
    "## **Rumus Variance $\\sigma^2$**\n",
    "$\\sigma^2 = \\frac{\\sum (x_i - \\mu)^2}{N}$\n",
    "di mana:\n",
    "- $ x_i $ adalah nilai dari fitur tertentu dalam suatu kelas,\n",
    "- $ \\mu $ adalah mean dari fitur dalam kelas tersebut,\n",
    "- $ N $ adalah jumlah data dalam kelas.\n",
    "\n",
    "\n",
    "\n",
    "## **Menghitung Variance untuk Kelas A**  \n",
    "\n",
    "### **1️. Variance untuk Fitur IPK di Kelas A**\n",
    "**Data IPK Kelas A:**  \n",
    "$3.5, 3.8, 3.6, 3.9, 3.7$  \n",
    "\n",
    "**Mean ($\\mu$)**:  \n",
    "\n",
    "$$\\mu_{IPK,A} = \\frac{3.5 + 3.8 + 3.6 + 3.9 + 3.7}{5} = 3.7$$  \n",
    "\n",
    "\n",
    "**Variance ($\\sigma^2$)**:  \n",
    "\n",
    "$$\\sigma^2_{IPK,A} = \\frac{(3.5 - 3.7)^2 + (3.8 - 3.7)^2 + (3.6 - 3.7)^2 + (3.9 - 3.7)^2 + (3.7 - 3.7)^2}{5}$$  \n",
    "\n",
    "$$= \\frac{(-0.2)^2 + (0.1)^2 + (-0.1)^2 + (0.2)^2 + (0.0)^2}{5}$$  \n",
    "\n",
    "$$= \\frac{0.04 + 0.01 + 0.01 + 0.04 + 0.00}{5} = \\frac{0.10}{5} = 0.02$$  \n",
    "\n",
    "\n",
    "\n",
    "### **2️. Variance untuk Fitur Kehadiran di Kelas A**\n",
    "**Data Kehadiran Kelas A:**  \n",
    "$ 90, 85, 92, 80, 87 $  \n",
    "\n",
    "**Mean ($\\mu$)**:  \n",
    "\n",
    "$$\\mu_{Kehadiran,A} = \\frac{90 + 85 + 92 + 80 + 87}{5} = 86.8$$  \n",
    "\n",
    "  \n",
    "**Variance ($\\sigma^2$)**:  \n",
    "\n",
    "$$\\sigma^2_{Kehadiran,A} = \\frac{(90 - 86.8)^2 + (85 - 86.8)^2 + (92 - 86.8)^2 + (80 - 86.8)^2 + (87 - 86.8)^2}{5}$$  \n",
    "\n",
    "$$= \\frac{(3.2)^2 + (-1.8)^2 + (5.2)^2 + (-6.8)^2 + (0.2)^2}{5}$$  \n",
    "\n",
    "$$= \\frac{10.24 + 3.24 + 27.04 + 46.24 + 0.04}{5} = \\frac{86.8}{5} = 17.36$$  \n",
    "\n",
    "\n",
    "\n",
    "### **3️. Variance untuk Fitur Tugas di Kelas A**\n",
    "**Data Tugas Kelas A:**  \n",
    "$ 80, 78, 82, 79, 81 $  \n",
    "\n",
    "**Mean ($\\mu$)**:  \n",
    "\n",
    "$$\\mu_{Tugas,A} = \\frac{80 + 78 + 82 + 79 + 81}{5} = 80$$  \n",
    "\n",
    "\n",
    "**Variance ($\\sigma^2$)**:  \n",
    "\n",
    "$$\\sigma^2_{Tugas,A} = \\frac{(80-80)^2 + (78-80)^2 + (82-80)^2 + (79-80)^2 + (81-80)^2}{5}$$  \n",
    "\n",
    "$$= \\frac{0 + 4 + 4 + 1 + 1}{5} = \\frac{10}{5} = 2.5$$\n",
    "\n",
    "\n",
    "\n",
    "### **4️. Variance untuk Fitur Ujian di Kelas A**\n",
    "**Data Ujian Kelas A:**  \n",
    "$ 85, 88, 84, 89, 86 $  \n",
    "\n",
    "**Mean ($\\mu$)**:  \n",
    "\n",
    "$$\\mu_{Ujian,A} = \\frac{85 + 88 + 84 + 89 + 86}{5} = 86.4$$  \n",
    "\n",
    "\n",
    "**Variance ($\\sigma^2$)**:  \n",
    "\n",
    "$$\\sigma^2_{Ujian,A} = \\frac{(85-86.4)^2 + (88-86.4)^2 + (84-86.4)^2 + (89-86.4)^2 + (86-86.4)^2}{5}$$  \n",
    "\n",
    "$$= \\frac{(-1.4)^2 + (1.6)^2 + (-2.4)^2 + (2.6)^2 + (-0.4)^2}{5}$$  \n",
    "\n",
    "$$= \\frac{1.96 + 2.56 + 5.76 + 6.76 + 0.16}{5} = \\frac{17.2}{5} = 4.64$$  \n",
    "\n",
    "\n",
    "\n",
    "### **Ringkasan Variance ($\\sigma^2$) untuk Semua Kelas**  \n",
    "Sekarang kita susun hasil perhitungan variance untuk semua kelas dalam tabel berikut:  \n",
    "\n",
    "| Fitur  | $\\sigma^2_A$ | $\\sigma^2_B$ | $\\sigma^2_C$ |\n",
    "|--------|--------------|--------------|--------------|\n",
    "| IPK | 0.02 | 0.02 | 0.02 |\n",
    "| Kehadiran | 17.36 | 5.36 | 11.5 |\n",
    "| Tugas | 2.5 | 6.96 | 3.7 |\n",
    "| Ujian | 4.64 | 1.36 | 4.2 |\n",
    "\n",
    "\n",
    "\n",
    "### **Menggunakan Variance dalam Gaussian Naïve Bayes**  \n",
    "Setelah mendapatkan variance ($\\sigma^2$), kita gunakan dalam **distribusi Gaussian**:  \n",
    "\n",
    "$$  \n",
    "P(x|\\mu, \\sigma) = \\frac{1}{\\sqrt{2\\pi\\sigma^2}} e^{-\\frac{(x - \\mu)^2}{2\\sigma^2}}\n",
    "$$  \n",
    "\n",
    "Misalkan kita ingin menghitung probabilitas untuk **IPK = 3.4 dalam Kelas A**, kita substitusi:  \n",
    "\n",
    "$$  \n",
    "P(3.4 | A) = \\frac{1}{\\sqrt{2\\pi(0.02)}} e^{-\\frac{(3.4 - 3.7)^2}{2(0.02)}}\n",
    "$$  \n",
    "\n",
    "Lakukan hal yang sama untuk semua fitur dan kelas lainnya.  \n",
    "\n",
    "\n",
    "**Kesimpulan:**  \n",
    "- Variance ($\\sigma^2$) sudah dihitung ulang dan disesuaikan dengan dataset mahasiswa.  \n",
    "- Hasilnya dapat digunakan dalam distribusi Gaussian untuk menghitung likelihood $ P(X|Y) $.  \n",
    "- Selanjutnya, kita bisa melanjutkan perhitungan $ P(Y|X) $ dan menentukan kelas prediksi.  \n"
   ]
  },
  {
   "cell_type": "markdown",
   "metadata": {},
   "source": [
    "### **Selanjutnya kita akan membandingkan dataset iris yang ada outlier dan tanpa outlier**"
   ]
  },
  {
   "cell_type": "markdown",
   "metadata": {},
   "source": [
    "**Import Library**"
   ]
  },
  {
   "cell_type": "code",
   "execution_count": 1,
   "metadata": {},
   "outputs": [],
   "source": [
    "import pandas as pd\n",
    "import numpy as np\n",
    "from sklearn.preprocessing import LabelEncoder\n",
    "from sklearn.model_selection import train_test_split"
   ]
  },
  {
   "cell_type": "markdown",
   "metadata": {},
   "source": [
    "`pandas (pd)`: Manipulasi data (baca CSV, hapus kolom, dsb.).  \n",
    "`numpy (np)`: Operasi numerik (tidak digunakan langsung di kode ini, tapi berguna untuk perhitungan).  \n",
    "`LabelEncoder`: Mengubah label kategori (string) menjadi angka agar bisa digunakan dalam machine learning.  \n",
    "`train_test_split`: Membagi dataset menjadi data training dan testing.  "
   ]
  },
  {
   "cell_type": "markdown",
   "metadata": {},
   "source": [
    "**Membaca dataset dari File csv**"
   ]
  },
  {
   "cell_type": "code",
   "execution_count": 2,
   "metadata": {},
   "outputs": [],
   "source": [
    "df = pd.read_csv('combined_data.csv')  # Sesuaikan dengan nama file CSV"
   ]
  },
  {
   "cell_type": "markdown",
   "metadata": {},
   "source": [
    "Membaca dataset dari file CSV bernama `combined_data.csv`.  \n",
    "Menyimpan data dalam format DataFrame `(df)`.  "
   ]
  },
  {
   "cell_type": "markdown",
   "metadata": {},
   "source": [
    "**Menghapus kolom kolom pertama ID**"
   ]
  },
  {
   "cell_type": "code",
   "execution_count": 3,
   "metadata": {},
   "outputs": [],
   "source": [
    "df = df.iloc[:, 1:]  "
   ]
  },
  {
   "cell_type": "markdown",
   "metadata": {},
   "source": [
    "Kolom ID dihapus karena biasanya tidak memiliki pengaruh dalam proses klasifikasi atau prediksi.  \n",
    "\n",
    "Menghapus kolom pertama dari dataset (diasumsikan sebagai kolom `ID`).  \n",
    "`iloc[:, 1:]`:  \n",
    "- `:` → Pilih semua baris.  \n",
    "- `1:` → Pilih semua kolom mulai dari indeks ke-1 (menghapus kolom ke-0).  "
   ]
  },
  {
   "cell_type": "markdown",
   "metadata": {},
   "source": [
    "**Memisahkan Label Kelas (y) dan Fitur (X)**"
   ]
  },
  {
   "cell_type": "code",
   "execution_count": 4,
   "metadata": {},
   "outputs": [],
   "source": [
    "y = df.iloc[:, 0]   # Kolom pertama setelah ID adalah label kelas\n",
    "X = df.iloc[:, 1:]  # Sisanya adalah fitur numerik"
   ]
  },
  {
   "cell_type": "markdown",
   "metadata": {},
   "source": [
    "`y = df.iloc[:, 0]`: Mengambil kolom pertama sebagai label **kelas** (y).  \n",
    "`X = df.iloc[:, 1:]`: Mengambil kolom lainnya sebagai **fitur** (X)."
   ]
  },
  {
   "cell_type": "markdown",
   "metadata": {},
   "source": [
    "**Mengubah Label Kelas dari String ke Angka**  \n",
    "Mengapa perlu labelnya di ubah yang sebelumnya string ke angka?   \n",
    "karena ,ika kelas masih dalam bentuk string, model tidak bisa melakukan operasi matematika.   \n",
    "Sebagai contoh, Gaussian Naïve Bayes menghitung probabilitas berdasarkan statistik, yang hanya bisa diterapkan pada angka.  "
   ]
  },
  {
   "cell_type": "code",
   "execution_count": 5,
   "metadata": {},
   "outputs": [],
   "source": [
    "le = LabelEncoder()\n",
    "y = le.fit_transform(y)  # Konversi label kelas dari string ke angka"
   ]
  },
  {
   "cell_type": "markdown",
   "metadata": {},
   "source": [
    "`LabelEncoder()`: Membuat encoder untuk mengubah label kategori menjadi angka.  \n",
    "`.fit_transform(y)`:  \n",
    "- Mengubah nilai string dalam `y` menjadi angka (misalnya, `'setosa'` → `0`, `'versicolor'` → `1`, `'virginica'` → `2`).  "
   ]
  },
  {
   "cell_type": "markdown",
   "metadata": {},
   "source": [
    "**Mengubah Semua Fitur (X) Menjadi Float**"
   ]
  },
  {
   "cell_type": "code",
   "execution_count": 6,
   "metadata": {},
   "outputs": [],
   "source": [
    "X = X.astype(float)"
   ]
  },
  {
   "cell_type": "markdown",
   "metadata": {},
   "source": [
    "Mengonversi semua fitur `(X)` menjadi tipe data float.  \n",
    "Ini diperlukan karena beberapa algoritma ML tidak bisa bekerja dengan tipe data selain numerik.  "
   ]
  },
  {
   "cell_type": "markdown",
   "metadata": {},
   "source": [
    "**Menampilkan Data yang Telah Diproses**"
   ]
  },
  {
   "cell_type": "code",
   "execution_count": 7,
   "metadata": {},
   "outputs": [
    {
     "name": "stdout",
     "output_type": "stream",
     "text": [
      "Dataset berhasil diproses. Berikut beberapa data pertama:\n",
      "         class  petal_length  petal_width  sepal_length  sepal_width\n",
      "0  Iris-setosa          70.0         86.4          20.1         30.5\n",
      "1  Iris-setosa           1.4          0.2           4.9          3.0\n",
      "2  Iris-setosa           1.3          0.2           4.7          3.2\n",
      "3  Iris-setosa           1.5          0.2           4.6          3.1\n",
      "4  Iris-setosa           1.4          0.2           5.0          3.6\n"
     ]
    }
   ],
   "source": [
    "print(\"Dataset berhasil diproses. Berikut beberapa data pertama:\")\n",
    "print(df.head())"
   ]
  },
  {
   "cell_type": "markdown",
   "metadata": {},
   "source": [
    "Menampilkan pesan sukses setelah preprocessing selesai.  \n",
    "`df.head()`: Menampilkan 5 baris pertama dataset untuk verifikasi.  "
   ]
  },
  {
   "cell_type": "markdown",
   "metadata": {},
   "source": [
    "**Memilih Fitur**"
   ]
  },
  {
   "cell_type": "code",
   "execution_count": 8,
   "metadata": {},
   "outputs": [],
   "source": [
    "X = df[['sepal_length', 'sepal_width', 'petal_length', 'petal_width']]\n",
    "y = df['class']  # Label target"
   ]
  },
  {
   "cell_type": "markdown",
   "metadata": {},
   "source": [
    "Memilih 4 fitur utama dari dataset `(sepal_length, sepal_width, petal_length, petal_width)`.  \n",
    "`y = df['class']`: Menentukan target klasifikasi (class).  "
   ]
  },
  {
   "cell_type": "markdown",
   "metadata": {},
   "source": [
    "**Persiapan data dan Membagi Dataset menjadi Training dan Testing**"
   ]
  },
  {
   "cell_type": "code",
   "execution_count": 9,
   "metadata": {},
   "outputs": [],
   "source": [
    "X_train, X_test, y_train, y_test = train_test_split(X, y, test_size=0.2,random_state=42)"
   ]
  },
  {
   "cell_type": "markdown",
   "metadata": {},
   "source": [
    "Membagi dataset menjadi:  \n",
    "- `80%` data training `(X_train, y_train)`. \n",
    "- `20%` data testing `(X_test, y_test)`.  \n",
    "- `random_state=42`: Agar hasil pembagian selalu sama setiap dijalankan.  "
   ]
  },
  {
   "cell_type": "markdown",
   "metadata": {},
   "source": [
    "**Menampilkan Ukuran Data Setelah Split**"
   ]
  },
  {
   "cell_type": "code",
   "execution_count": 10,
   "metadata": {},
   "outputs": [
    {
     "name": "stdout",
     "output_type": "stream",
     "text": [
      "X_train shape: (120, 4)\n",
      "X_test shape: (30, 4)\n"
     ]
    }
   ],
   "source": [
    "print(\"X_train shape:\", X_train.shape)  # Harus (n_train, 4)\n",
    "print(\"X_test shape:\", X_test.shape)    # Harus (n_test, 4)"
   ]
  },
  {
   "cell_type": "markdown",
   "metadata": {},
   "source": [
    "Menampilkan jumlah sampel dan fitur setelah data dibagi.  \n",
    "`.shape`: Mengembalikan jumlah baris dan kolom dalam dataset.  \n",
    "`X_train.shape` dan `X_test.shape` harus berupa `(jumlah_sampel, 4)`, karena kita hanya memiliki 4 fitur.  "
   ]
  },
  {
   "cell_type": "markdown",
   "metadata": {},
   "source": [
    "**Inisialisasi Model**"
   ]
  },
  {
   "cell_type": "code",
   "execution_count": 11,
   "metadata": {},
   "outputs": [],
   "source": [
    "from sklearn.naive_bayes import GaussianNB\n",
    "model = GaussianNB()"
   ]
  },
  {
   "cell_type": "markdown",
   "metadata": {},
   "source": [
    "**Melatih model**"
   ]
  },
  {
   "cell_type": "code",
   "execution_count": 12,
   "metadata": {},
   "outputs": [
    {
     "data": {
      "text/html": [
       "<style>#sk-container-id-1 {\n",
       "  /* Definition of color scheme common for light and dark mode */\n",
       "  --sklearn-color-text: #000;\n",
       "  --sklearn-color-text-muted: #666;\n",
       "  --sklearn-color-line: gray;\n",
       "  /* Definition of color scheme for unfitted estimators */\n",
       "  --sklearn-color-unfitted-level-0: #fff5e6;\n",
       "  --sklearn-color-unfitted-level-1: #f6e4d2;\n",
       "  --sklearn-color-unfitted-level-2: #ffe0b3;\n",
       "  --sklearn-color-unfitted-level-3: chocolate;\n",
       "  /* Definition of color scheme for fitted estimators */\n",
       "  --sklearn-color-fitted-level-0: #f0f8ff;\n",
       "  --sklearn-color-fitted-level-1: #d4ebff;\n",
       "  --sklearn-color-fitted-level-2: #b3dbfd;\n",
       "  --sklearn-color-fitted-level-3: cornflowerblue;\n",
       "\n",
       "  /* Specific color for light theme */\n",
       "  --sklearn-color-text-on-default-background: var(--sg-text-color, var(--theme-code-foreground, var(--jp-content-font-color1, black)));\n",
       "  --sklearn-color-background: var(--sg-background-color, var(--theme-background, var(--jp-layout-color0, white)));\n",
       "  --sklearn-color-border-box: var(--sg-text-color, var(--theme-code-foreground, var(--jp-content-font-color1, black)));\n",
       "  --sklearn-color-icon: #696969;\n",
       "\n",
       "  @media (prefers-color-scheme: dark) {\n",
       "    /* Redefinition of color scheme for dark theme */\n",
       "    --sklearn-color-text-on-default-background: var(--sg-text-color, var(--theme-code-foreground, var(--jp-content-font-color1, white)));\n",
       "    --sklearn-color-background: var(--sg-background-color, var(--theme-background, var(--jp-layout-color0, #111)));\n",
       "    --sklearn-color-border-box: var(--sg-text-color, var(--theme-code-foreground, var(--jp-content-font-color1, white)));\n",
       "    --sklearn-color-icon: #878787;\n",
       "  }\n",
       "}\n",
       "\n",
       "#sk-container-id-1 {\n",
       "  color: var(--sklearn-color-text);\n",
       "}\n",
       "\n",
       "#sk-container-id-1 pre {\n",
       "  padding: 0;\n",
       "}\n",
       "\n",
       "#sk-container-id-1 input.sk-hidden--visually {\n",
       "  border: 0;\n",
       "  clip: rect(1px 1px 1px 1px);\n",
       "  clip: rect(1px, 1px, 1px, 1px);\n",
       "  height: 1px;\n",
       "  margin: -1px;\n",
       "  overflow: hidden;\n",
       "  padding: 0;\n",
       "  position: absolute;\n",
       "  width: 1px;\n",
       "}\n",
       "\n",
       "#sk-container-id-1 div.sk-dashed-wrapped {\n",
       "  border: 1px dashed var(--sklearn-color-line);\n",
       "  margin: 0 0.4em 0.5em 0.4em;\n",
       "  box-sizing: border-box;\n",
       "  padding-bottom: 0.4em;\n",
       "  background-color: var(--sklearn-color-background);\n",
       "}\n",
       "\n",
       "#sk-container-id-1 div.sk-container {\n",
       "  /* jupyter's `normalize.less` sets `[hidden] { display: none; }`\n",
       "     but bootstrap.min.css set `[hidden] { display: none !important; }`\n",
       "     so we also need the `!important` here to be able to override the\n",
       "     default hidden behavior on the sphinx rendered scikit-learn.org.\n",
       "     See: https://github.com/scikit-learn/scikit-learn/issues/21755 */\n",
       "  display: inline-block !important;\n",
       "  position: relative;\n",
       "}\n",
       "\n",
       "#sk-container-id-1 div.sk-text-repr-fallback {\n",
       "  display: none;\n",
       "}\n",
       "\n",
       "div.sk-parallel-item,\n",
       "div.sk-serial,\n",
       "div.sk-item {\n",
       "  /* draw centered vertical line to link estimators */\n",
       "  background-image: linear-gradient(var(--sklearn-color-text-on-default-background), var(--sklearn-color-text-on-default-background));\n",
       "  background-size: 2px 100%;\n",
       "  background-repeat: no-repeat;\n",
       "  background-position: center center;\n",
       "}\n",
       "\n",
       "/* Parallel-specific style estimator block */\n",
       "\n",
       "#sk-container-id-1 div.sk-parallel-item::after {\n",
       "  content: \"\";\n",
       "  width: 100%;\n",
       "  border-bottom: 2px solid var(--sklearn-color-text-on-default-background);\n",
       "  flex-grow: 1;\n",
       "}\n",
       "\n",
       "#sk-container-id-1 div.sk-parallel {\n",
       "  display: flex;\n",
       "  align-items: stretch;\n",
       "  justify-content: center;\n",
       "  background-color: var(--sklearn-color-background);\n",
       "  position: relative;\n",
       "}\n",
       "\n",
       "#sk-container-id-1 div.sk-parallel-item {\n",
       "  display: flex;\n",
       "  flex-direction: column;\n",
       "}\n",
       "\n",
       "#sk-container-id-1 div.sk-parallel-item:first-child::after {\n",
       "  align-self: flex-end;\n",
       "  width: 50%;\n",
       "}\n",
       "\n",
       "#sk-container-id-1 div.sk-parallel-item:last-child::after {\n",
       "  align-self: flex-start;\n",
       "  width: 50%;\n",
       "}\n",
       "\n",
       "#sk-container-id-1 div.sk-parallel-item:only-child::after {\n",
       "  width: 0;\n",
       "}\n",
       "\n",
       "/* Serial-specific style estimator block */\n",
       "\n",
       "#sk-container-id-1 div.sk-serial {\n",
       "  display: flex;\n",
       "  flex-direction: column;\n",
       "  align-items: center;\n",
       "  background-color: var(--sklearn-color-background);\n",
       "  padding-right: 1em;\n",
       "  padding-left: 1em;\n",
       "}\n",
       "\n",
       "\n",
       "/* Toggleable style: style used for estimator/Pipeline/ColumnTransformer box that is\n",
       "clickable and can be expanded/collapsed.\n",
       "- Pipeline and ColumnTransformer use this feature and define the default style\n",
       "- Estimators will overwrite some part of the style using the `sk-estimator` class\n",
       "*/\n",
       "\n",
       "/* Pipeline and ColumnTransformer style (default) */\n",
       "\n",
       "#sk-container-id-1 div.sk-toggleable {\n",
       "  /* Default theme specific background. It is overwritten whether we have a\n",
       "  specific estimator or a Pipeline/ColumnTransformer */\n",
       "  background-color: var(--sklearn-color-background);\n",
       "}\n",
       "\n",
       "/* Toggleable label */\n",
       "#sk-container-id-1 label.sk-toggleable__label {\n",
       "  cursor: pointer;\n",
       "  display: flex;\n",
       "  width: 100%;\n",
       "  margin-bottom: 0;\n",
       "  padding: 0.5em;\n",
       "  box-sizing: border-box;\n",
       "  text-align: center;\n",
       "  align-items: start;\n",
       "  justify-content: space-between;\n",
       "  gap: 0.5em;\n",
       "}\n",
       "\n",
       "#sk-container-id-1 label.sk-toggleable__label .caption {\n",
       "  font-size: 0.6rem;\n",
       "  font-weight: lighter;\n",
       "  color: var(--sklearn-color-text-muted);\n",
       "}\n",
       "\n",
       "#sk-container-id-1 label.sk-toggleable__label-arrow:before {\n",
       "  /* Arrow on the left of the label */\n",
       "  content: \"▸\";\n",
       "  float: left;\n",
       "  margin-right: 0.25em;\n",
       "  color: var(--sklearn-color-icon);\n",
       "}\n",
       "\n",
       "#sk-container-id-1 label.sk-toggleable__label-arrow:hover:before {\n",
       "  color: var(--sklearn-color-text);\n",
       "}\n",
       "\n",
       "/* Toggleable content - dropdown */\n",
       "\n",
       "#sk-container-id-1 div.sk-toggleable__content {\n",
       "  max-height: 0;\n",
       "  max-width: 0;\n",
       "  overflow: hidden;\n",
       "  text-align: left;\n",
       "  /* unfitted */\n",
       "  background-color: var(--sklearn-color-unfitted-level-0);\n",
       "}\n",
       "\n",
       "#sk-container-id-1 div.sk-toggleable__content.fitted {\n",
       "  /* fitted */\n",
       "  background-color: var(--sklearn-color-fitted-level-0);\n",
       "}\n",
       "\n",
       "#sk-container-id-1 div.sk-toggleable__content pre {\n",
       "  margin: 0.2em;\n",
       "  border-radius: 0.25em;\n",
       "  color: var(--sklearn-color-text);\n",
       "  /* unfitted */\n",
       "  background-color: var(--sklearn-color-unfitted-level-0);\n",
       "}\n",
       "\n",
       "#sk-container-id-1 div.sk-toggleable__content.fitted pre {\n",
       "  /* unfitted */\n",
       "  background-color: var(--sklearn-color-fitted-level-0);\n",
       "}\n",
       "\n",
       "#sk-container-id-1 input.sk-toggleable__control:checked~div.sk-toggleable__content {\n",
       "  /* Expand drop-down */\n",
       "  max-height: 200px;\n",
       "  max-width: 100%;\n",
       "  overflow: auto;\n",
       "}\n",
       "\n",
       "#sk-container-id-1 input.sk-toggleable__control:checked~label.sk-toggleable__label-arrow:before {\n",
       "  content: \"▾\";\n",
       "}\n",
       "\n",
       "/* Pipeline/ColumnTransformer-specific style */\n",
       "\n",
       "#sk-container-id-1 div.sk-label input.sk-toggleable__control:checked~label.sk-toggleable__label {\n",
       "  color: var(--sklearn-color-text);\n",
       "  background-color: var(--sklearn-color-unfitted-level-2);\n",
       "}\n",
       "\n",
       "#sk-container-id-1 div.sk-label.fitted input.sk-toggleable__control:checked~label.sk-toggleable__label {\n",
       "  background-color: var(--sklearn-color-fitted-level-2);\n",
       "}\n",
       "\n",
       "/* Estimator-specific style */\n",
       "\n",
       "/* Colorize estimator box */\n",
       "#sk-container-id-1 div.sk-estimator input.sk-toggleable__control:checked~label.sk-toggleable__label {\n",
       "  /* unfitted */\n",
       "  background-color: var(--sklearn-color-unfitted-level-2);\n",
       "}\n",
       "\n",
       "#sk-container-id-1 div.sk-estimator.fitted input.sk-toggleable__control:checked~label.sk-toggleable__label {\n",
       "  /* fitted */\n",
       "  background-color: var(--sklearn-color-fitted-level-2);\n",
       "}\n",
       "\n",
       "#sk-container-id-1 div.sk-label label.sk-toggleable__label,\n",
       "#sk-container-id-1 div.sk-label label {\n",
       "  /* The background is the default theme color */\n",
       "  color: var(--sklearn-color-text-on-default-background);\n",
       "}\n",
       "\n",
       "/* On hover, darken the color of the background */\n",
       "#sk-container-id-1 div.sk-label:hover label.sk-toggleable__label {\n",
       "  color: var(--sklearn-color-text);\n",
       "  background-color: var(--sklearn-color-unfitted-level-2);\n",
       "}\n",
       "\n",
       "/* Label box, darken color on hover, fitted */\n",
       "#sk-container-id-1 div.sk-label.fitted:hover label.sk-toggleable__label.fitted {\n",
       "  color: var(--sklearn-color-text);\n",
       "  background-color: var(--sklearn-color-fitted-level-2);\n",
       "}\n",
       "\n",
       "/* Estimator label */\n",
       "\n",
       "#sk-container-id-1 div.sk-label label {\n",
       "  font-family: monospace;\n",
       "  font-weight: bold;\n",
       "  display: inline-block;\n",
       "  line-height: 1.2em;\n",
       "}\n",
       "\n",
       "#sk-container-id-1 div.sk-label-container {\n",
       "  text-align: center;\n",
       "}\n",
       "\n",
       "/* Estimator-specific */\n",
       "#sk-container-id-1 div.sk-estimator {\n",
       "  font-family: monospace;\n",
       "  border: 1px dotted var(--sklearn-color-border-box);\n",
       "  border-radius: 0.25em;\n",
       "  box-sizing: border-box;\n",
       "  margin-bottom: 0.5em;\n",
       "  /* unfitted */\n",
       "  background-color: var(--sklearn-color-unfitted-level-0);\n",
       "}\n",
       "\n",
       "#sk-container-id-1 div.sk-estimator.fitted {\n",
       "  /* fitted */\n",
       "  background-color: var(--sklearn-color-fitted-level-0);\n",
       "}\n",
       "\n",
       "/* on hover */\n",
       "#sk-container-id-1 div.sk-estimator:hover {\n",
       "  /* unfitted */\n",
       "  background-color: var(--sklearn-color-unfitted-level-2);\n",
       "}\n",
       "\n",
       "#sk-container-id-1 div.sk-estimator.fitted:hover {\n",
       "  /* fitted */\n",
       "  background-color: var(--sklearn-color-fitted-level-2);\n",
       "}\n",
       "\n",
       "/* Specification for estimator info (e.g. \"i\" and \"?\") */\n",
       "\n",
       "/* Common style for \"i\" and \"?\" */\n",
       "\n",
       ".sk-estimator-doc-link,\n",
       "a:link.sk-estimator-doc-link,\n",
       "a:visited.sk-estimator-doc-link {\n",
       "  float: right;\n",
       "  font-size: smaller;\n",
       "  line-height: 1em;\n",
       "  font-family: monospace;\n",
       "  background-color: var(--sklearn-color-background);\n",
       "  border-radius: 1em;\n",
       "  height: 1em;\n",
       "  width: 1em;\n",
       "  text-decoration: none !important;\n",
       "  margin-left: 0.5em;\n",
       "  text-align: center;\n",
       "  /* unfitted */\n",
       "  border: var(--sklearn-color-unfitted-level-1) 1pt solid;\n",
       "  color: var(--sklearn-color-unfitted-level-1);\n",
       "}\n",
       "\n",
       ".sk-estimator-doc-link.fitted,\n",
       "a:link.sk-estimator-doc-link.fitted,\n",
       "a:visited.sk-estimator-doc-link.fitted {\n",
       "  /* fitted */\n",
       "  border: var(--sklearn-color-fitted-level-1) 1pt solid;\n",
       "  color: var(--sklearn-color-fitted-level-1);\n",
       "}\n",
       "\n",
       "/* On hover */\n",
       "div.sk-estimator:hover .sk-estimator-doc-link:hover,\n",
       ".sk-estimator-doc-link:hover,\n",
       "div.sk-label-container:hover .sk-estimator-doc-link:hover,\n",
       ".sk-estimator-doc-link:hover {\n",
       "  /* unfitted */\n",
       "  background-color: var(--sklearn-color-unfitted-level-3);\n",
       "  color: var(--sklearn-color-background);\n",
       "  text-decoration: none;\n",
       "}\n",
       "\n",
       "div.sk-estimator.fitted:hover .sk-estimator-doc-link.fitted:hover,\n",
       ".sk-estimator-doc-link.fitted:hover,\n",
       "div.sk-label-container:hover .sk-estimator-doc-link.fitted:hover,\n",
       ".sk-estimator-doc-link.fitted:hover {\n",
       "  /* fitted */\n",
       "  background-color: var(--sklearn-color-fitted-level-3);\n",
       "  color: var(--sklearn-color-background);\n",
       "  text-decoration: none;\n",
       "}\n",
       "\n",
       "/* Span, style for the box shown on hovering the info icon */\n",
       ".sk-estimator-doc-link span {\n",
       "  display: none;\n",
       "  z-index: 9999;\n",
       "  position: relative;\n",
       "  font-weight: normal;\n",
       "  right: .2ex;\n",
       "  padding: .5ex;\n",
       "  margin: .5ex;\n",
       "  width: min-content;\n",
       "  min-width: 20ex;\n",
       "  max-width: 50ex;\n",
       "  color: var(--sklearn-color-text);\n",
       "  box-shadow: 2pt 2pt 4pt #999;\n",
       "  /* unfitted */\n",
       "  background: var(--sklearn-color-unfitted-level-0);\n",
       "  border: .5pt solid var(--sklearn-color-unfitted-level-3);\n",
       "}\n",
       "\n",
       ".sk-estimator-doc-link.fitted span {\n",
       "  /* fitted */\n",
       "  background: var(--sklearn-color-fitted-level-0);\n",
       "  border: var(--sklearn-color-fitted-level-3);\n",
       "}\n",
       "\n",
       ".sk-estimator-doc-link:hover span {\n",
       "  display: block;\n",
       "}\n",
       "\n",
       "/* \"?\"-specific style due to the `<a>` HTML tag */\n",
       "\n",
       "#sk-container-id-1 a.estimator_doc_link {\n",
       "  float: right;\n",
       "  font-size: 1rem;\n",
       "  line-height: 1em;\n",
       "  font-family: monospace;\n",
       "  background-color: var(--sklearn-color-background);\n",
       "  border-radius: 1rem;\n",
       "  height: 1rem;\n",
       "  width: 1rem;\n",
       "  text-decoration: none;\n",
       "  /* unfitted */\n",
       "  color: var(--sklearn-color-unfitted-level-1);\n",
       "  border: var(--sklearn-color-unfitted-level-1) 1pt solid;\n",
       "}\n",
       "\n",
       "#sk-container-id-1 a.estimator_doc_link.fitted {\n",
       "  /* fitted */\n",
       "  border: var(--sklearn-color-fitted-level-1) 1pt solid;\n",
       "  color: var(--sklearn-color-fitted-level-1);\n",
       "}\n",
       "\n",
       "/* On hover */\n",
       "#sk-container-id-1 a.estimator_doc_link:hover {\n",
       "  /* unfitted */\n",
       "  background-color: var(--sklearn-color-unfitted-level-3);\n",
       "  color: var(--sklearn-color-background);\n",
       "  text-decoration: none;\n",
       "}\n",
       "\n",
       "#sk-container-id-1 a.estimator_doc_link.fitted:hover {\n",
       "  /* fitted */\n",
       "  background-color: var(--sklearn-color-fitted-level-3);\n",
       "}\n",
       "</style><div id=\"sk-container-id-1\" class=\"sk-top-container\"><div class=\"sk-text-repr-fallback\"><pre>GaussianNB()</pre><b>In a Jupyter environment, please rerun this cell to show the HTML representation or trust the notebook. <br />On GitHub, the HTML representation is unable to render, please try loading this page with nbviewer.org.</b></div><div class=\"sk-container\" hidden><div class=\"sk-item\"><div class=\"sk-estimator fitted sk-toggleable\"><input class=\"sk-toggleable__control sk-hidden--visually\" id=\"sk-estimator-id-1\" type=\"checkbox\" checked><label for=\"sk-estimator-id-1\" class=\"sk-toggleable__label fitted sk-toggleable__label-arrow\"><div><div>GaussianNB</div></div><div><a class=\"sk-estimator-doc-link fitted\" rel=\"noreferrer\" target=\"_blank\" href=\"https://scikit-learn.org/1.6/modules/generated/sklearn.naive_bayes.GaussianNB.html\">?<span>Documentation for GaussianNB</span></a><span class=\"sk-estimator-doc-link fitted\">i<span>Fitted</span></span></div></label><div class=\"sk-toggleable__content fitted\"><pre>GaussianNB()</pre></div> </div></div></div></div>"
      ],
      "text/plain": [
       "GaussianNB()"
      ]
     },
     "execution_count": 12,
     "metadata": {},
     "output_type": "execute_result"
    }
   ],
   "source": [
    "model.fit(X_train, y_train)"
   ]
  },
  {
   "cell_type": "markdown",
   "metadata": {},
   "source": [
    "**Memprediksi hasil**"
   ]
  },
  {
   "cell_type": "code",
   "execution_count": 13,
   "metadata": {},
   "outputs": [],
   "source": [
    "y_pred = model.predict(X_test)"
   ]
  },
  {
   "cell_type": "markdown",
   "metadata": {},
   "source": [
    "**Mengecek akurasi**"
   ]
  },
  {
   "cell_type": "code",
   "execution_count": 14,
   "metadata": {},
   "outputs": [
    {
     "name": "stdout",
     "output_type": "stream",
     "text": [
      "Akurasi: 0.9666666666666667\n"
     ]
    }
   ],
   "source": [
    "from sklearn.metrics import accuracy_score\n",
    "accuracy = accuracy_score(y_test, y_pred)\n",
    "print(\"Akurasi:\", accuracy)"
   ]
  },
  {
   "cell_type": "markdown",
   "metadata": {},
   "source": [
    "### **Data setelah outlier dihapus**"
   ]
  },
  {
   "cell_type": "markdown",
   "metadata": {},
   "source": [
    "**Import Library**"
   ]
  },
  {
   "cell_type": "code",
   "execution_count": 15,
   "metadata": {},
   "outputs": [],
   "source": [
    "from sklearn.neighbors import LocalOutlierFactor\n",
    "from sklearn.model_selection import train_test_split\n",
    "from sklearn.naive_bayes import GaussianNB\n",
    "from sklearn.metrics import accuracy_score"
   ]
  },
  {
   "cell_type": "markdown",
   "metadata": {},
   "source": [
    "`LocalOutlierFactor`: Digunakan untuk mendeteksi outlier dalam dataset.  \n",
    "`train_test_split`: Membagi dataset menjadi data training dan testing.  \n",
    "`GaussianNB`: Model Gaussian Naïve Bayes untuk klasifikasi.  \n",
    "`accuracy_score`: Menghitung akurasi prediksi model.  "
   ]
  },
  {
   "cell_type": "markdown",
   "metadata": {},
   "source": [
    "**Menentukan Kolom Numerik**"
   ]
  },
  {
   "cell_type": "code",
   "execution_count": 16,
   "metadata": {},
   "outputs": [],
   "source": [
    "numeric_columns = df.select_dtypes(include=['float64', 'int64']).columns.tolist()"
   ]
  },
  {
   "cell_type": "markdown",
   "metadata": {},
   "source": [
    "Mendeteksi kolom yang berisi data numerik `(float64 dan int64)`.  \n",
    "Mengembalikan daftar nama kolom numerik dalam dataset.  \n",
    "Ini penting karena `LocalOutlierFactor`hanya bisa bekerja dengan data numerik.  \n",
    "\n"
   ]
  },
  {
   "cell_type": "markdown",
   "metadata": {},
   "source": [
    "**Menghapus Outlier Menggunakan LOF**"
   ]
  },
  {
   "cell_type": "code",
   "execution_count": 17,
   "metadata": {},
   "outputs": [],
   "source": [
    "lof = LocalOutlierFactor(n_neighbors=20, contamination=0.05)\n",
    "outliers = lof.fit_predict(df[numeric_columns])\n",
    "df_no_outliers_lof = df[outliers == 1].reset_index(drop=True)  "
   ]
  },
  {
   "cell_type": "markdown",
   "metadata": {},
   "source": [
    "`LocalOutlierFactor(n_neighbors=20, contamination=0.05)`:  \n",
    "- `n_neighbors=20` → Melihat 20 tetangga terdekat untuk menentukan apakah titik itu outlier atau bukan.  \n",
    "- `contamination=0.05` → 5% data dianggap outlier.  \n",
    "\n",
    "`lof.fit_predict(df[numeric_columns])`:  \n",
    "- Mendeteksi outlier dalam dataset.\n",
    "- Hasilnya adalah array label (1 untuk data normal, -1 untuk outlier).\n",
    "\n",
    "`df[outliers == 1]`:  \n",
    "- Hanya menyimpan data yang bukan outlier `(1)`.\n",
    "\n",
    "`.reset_index(drop=True)`:  \n",
    "- Mereset indeks agar tidak ada indeks yang hilang setelah data dihapus.\n",
    "\n"
   ]
  },
  {
   "cell_type": "markdown",
   "metadata": {},
   "source": [
    "**Menghapus Baris dengan ID = 1**"
   ]
  },
  {
   "cell_type": "code",
   "execution_count": 18,
   "metadata": {},
   "outputs": [],
   "source": [
    "if 'id' in df_no_outliers_lof.columns:\n",
    "    df_no_outliers_lof = df_no_outliers_lof[df_no_outliers_lof['id'] != 0].reset_index(drop=True)"
   ]
  },
  {
   "cell_type": "markdown",
   "metadata": {},
   "source": [
    "Memeriksa apakah ada kolom `'id'` dalam dataset.  \n",
    "Jika ada, hapus baris dengan `ID = 1`.  \n",
    "`reset_index(drop=True)`: Agar indeks tetap berurutan setelah penghapusan.  "
   ]
  },
  {
   "cell_type": "code",
   "execution_count": 19,
   "metadata": {},
   "outputs": [
    {
     "name": "stdout",
     "output_type": "stream",
     "text": [
      "Akurasi setelah LOF dan hapus ID = 1: 0.9655172413793104\n"
     ]
    }
   ],
   "source": [
    "if 'class' in df_no_outliers_lof.columns:\n",
    "    X = df_no_outliers_lof[numeric_columns]\n",
    "    y = df_no_outliers_lof['class']\n",
    "\n",
    "    # Membagi data menjadi training dan testing\n",
    "    X_train, X_test, y_train, y_test = train_test_split(X, y, test_size=0.2, random_state=42)\n",
    "\n",
    "    # Melatih ulang Gaussian Naïve Bayes\n",
    "    model = GaussianNB()\n",
    "    model.fit(X_train, y_train)\n",
    "    y_pred = model.predict(X_test)\n",
    "\n",
    "    # Menghitung akurasi\n",
    "    accuracy = accuracy_score(y_test, y_pred)\n",
    "    print(\"Akurasi setelah LOF dan hapus ID = 1:\", accuracy)\n",
    "else:\n",
    "    print(\"Kolom 'class' tidak ditemukan dalam dataset.\")"
   ]
  },
  {
   "cell_type": "markdown",
   "metadata": {},
   "source": [
    " **Memeriksa Apakah Kolom 'class' Ada**  \n",
    "```python\n",
    "if 'class' in df_no_outliers_lof.columns:\n",
    "```\n",
    " **Fungsi:**  \n",
    "- **Pastikan dataset memiliki kolom `'class'`** (label target untuk klasifikasi).  \n",
    "- Jika tidak ada, program akan mencetak pesan error dan tidak menjalankan training model.  \n",
    "\n",
    " **Menyiapkan Data untuk Training & Testing**  \n",
    "```python\n",
    "X = df_no_outliers_lof[numeric_columns]\n",
    "y = df_no_outliers_lof['class']\n",
    "```\n",
    " **Fungsi:**  \n",
    "- `X`: **Fitur (independent variables)** → Semua kolom numerik dalam dataset.  \n",
    "- `y`: **Target (dependent variable)** → Kolom `'class'`.  \n",
    "\n",
    "```python\n",
    "X_train, X_test, y_train, y_test = train_test_split(X, y, test_size=0.2, random_state=42)\n",
    "```\n",
    " **Fungsi:**  \n",
    "- **Membagi dataset menjadi 80% training dan 20% testing**.  \n",
    "- `random_state=42` → Agar hasil pembagian selalu sama setiap dijalankan.  \n",
    "\n",
    " **Melatih Model Gaussian Naïve Bayes**  \n",
    "```python\n",
    "model = GaussianNB()\n",
    "model.fit(X_train, y_train)\n",
    "```\n",
    " **Fungsi:**  \n",
    "- `GaussianNB()`: **Membuat model Naïve Bayes dengan distribusi Gaussian**.  \n",
    "- `.fit(X_train, y_train)`: **Melatih model menggunakan data training**.  \n",
    "\n",
    " **Memprediksi Data Testing**  \n",
    "```python\n",
    "y_pred = model.predict(X_test)\n",
    "```\n",
    " **Fungsi:**  \n",
    "- **Memprediksi kelas dari data testing (`X_test`)**.  \n",
    "\n",
    " **Menghitung Akurasi Model**  \n",
    "```python\n",
    "accuracy = accuracy_score(y_test, y_pred)\n",
    "print(\"Akurasi setelah LOF dan hapus ID=1:\", accuracy)\n",
    "```\n",
    " **Fungsi:**  \n",
    "- **Membandingkan hasil prediksi (`y_pred`) dengan label asli (`y_test`)**.  \n",
    "- `accuracy_score(y_test, y_pred)`: **Menghitung akurasi model**.  \n",
    "- `print()` → Menampilkan akurasi ke layar.  \n",
    "\n",
    " **Jika Kolom 'class' Tidak Ada**  \n",
    "```python\n",
    "else:\n",
    "    print(\"Kolom 'class' tidak ditemukan dalam dataset.\")\n",
    "```\n",
    " **Fungsi:**  \n",
    "- Jika **tidak ada kolom `'class'`**, maka model tidak bisa dilatih.  \n",
    "- Program akan **menampilkan pesan error** dan berhenti.  \n"
   ]
  },
  {
   "cell_type": "markdown",
   "metadata": {},
   "source": [
    "## **Kesimpulan**  \n",
    "\n",
    "1. Setelah menghapus outlier menggunakan **Local Outlier Factor (LOF)**, akurasi sedikit menurun dari **96.67% menjadi 96.55%**.  \n",
    "2. Menghapus outlier **tidak selalu meningkatkan akurasi**, kadang justru bisa sedikit menurunkannya.  \n",
    "3. **Tidak semua outlier harus dihapus**, karena ada kemungkinan mereka mengandung informasi yang berguna untuk model.  \n",
    "4. Sebelum menghapus outlier, **perlu dicek dulu apakah mereka benar-benar mengganggu hasil atau tidak**.  \n",
    "\n",
    "Jadi, dalam kasus ini, **menghapus outlier tidak terlalu berpengaruh** dan metode lain mungkin lebih efektif untuk meningkatkan akurasi."
   ]
  }
 ],
 "metadata": {
  "kernelspec": {
   "display_name": "Python 3",
   "language": "python",
   "name": "python3"
  },
  "language_info": {
   "codemirror_mode": {
    "name": "ipython",
    "version": 3
   },
   "file_extension": ".py",
   "mimetype": "text/x-python",
   "name": "python",
   "nbconvert_exporter": "python",
   "pygments_lexer": "ipython3",
   "version": "3.10.6"
  }
 },
 "nbformat": 4,
 "nbformat_minor": 2
}
